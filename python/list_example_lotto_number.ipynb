{
  "nbformat": 4,
  "nbformat_minor": 0,
  "metadata": {
    "colab": {
      "name": "list-example-lotto_number.ipynb",
      "provenance": [],
      "collapsed_sections": [],
      "authorship_tag": "ABX9TyNN+eiJl2I1j7/woy8F0hd8",
      "include_colab_link": true
    },
    "kernelspec": {
      "name": "python3",
      "display_name": "Python 3"
    },
    "language_info": {
      "name": "python"
    }
  },
  "cells": [
    {
      "cell_type": "markdown",
      "metadata": {
        "id": "view-in-github",
        "colab_type": "text"
      },
      "source": [
        "<a href=\"https://colab.research.google.com/github/Jade-flow/pie/blob/main/python/list_example_lotto_number.ipynb\" target=\"_parent\"><img src=\"https://colab.research.google.com/assets/colab-badge.svg\" alt=\"Open In Colab\"/></a>"
      ]
    },
    {
      "cell_type": "markdown",
      "metadata": {
        "id": "hGOYDdgFyaXe"
      },
      "source": [
        "From the text: Introduction to Programming using Python by Y. Daniel Liang.\n",
        "\n",
        "# P314-10.1\n",
        "\n",
        "## Get average of 100 random integers. Count the numbers above average.\n",
        "\n",
        "Embedded video below"
      ]
    },
    {
      "cell_type": "code",
      "metadata": {
        "id": "p8DZ3vLJu-02",
        "colab": {
          "base_uri": "https://localhost:8080/",
          "height": 321
        },
        "outputId": "aec7c337-069b-4446-fb26-157fb000bc78"
      },
      "source": [
        "# P324 10.1\n",
        "from IPython.display import YouTubeVideo\n",
        "YouTubeVideo('fjkRwbCSLGo')"
      ],
      "execution_count": null,
      "outputs": [
        {
          "output_type": "execute_result",
          "data": {
            "text/html": [
              "\n",
              "        <iframe\n",
              "            width=\"400\"\n",
              "            height=\"300\"\n",
              "            src=\"https://www.youtube.com/embed/fjkRwbCSLGo\"\n",
              "            frameborder=\"0\"\n",
              "            allowfullscreen\n",
              "        ></iframe>\n",
              "        "
            ],
            "text/plain": [
              "<IPython.lib.display.YouTubeVideo at 0x7fab2852a5d0>"
            ],
            "image/jpeg": "[encoded data removed]"
          },
          "metadata": {},
          "execution_count": 1
        }
      ]
    },
    {
      "cell_type": "markdown",
      "metadata": {
        "id": "LwYDHqPWyL5f"
      },
      "source": [
        "# P325 Lotto Numbers\n",
        "\n",
        "## Determine whether all the input numbers cover 1 to 99\n",
        "\n",
        "## Rewrite LottoNumbers.py on page 326. \n",
        "\n",
        "1.   Randomly generate 99 integers instead of reading from an external file.\n",
        "2.   Replace `if-else` with `ternary operator`\n",
        "3.   In `check whether all numbers ( to 99) are coverd`, rewrite the block by applying `sum()` to the `isCovered` list. \n",
        "\n"
      ]
    }
  ]
}