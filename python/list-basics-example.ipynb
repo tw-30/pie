{
  "nbformat": 4,
  "nbformat_minor": 0,
  "metadata": {
    "colab": {
      "name": "load_data_to_colab.ipynb",
      "provenance": [],
      "authorship_tag": "ABX9TyOY6pBUWn0mkEXhu4U8pyVK",
      "include_colab_link": true
    },
    "kernelspec": {
      "name": "python3",
      "display_name": "Python 3"
    },
    "language_info": {
      "name": "python"
    }
  },
  "cells": [
    {
      "cell_type": "markdown",
      "metadata": {
        "id": "view-in-github",
        "colab_type": "text"
      },
      "source": [
        "<a href=\"https://colab.research.google.com/github/Jade-flow/pie/blob/main/python/list-basics-example.ipynb\" target=\"_parent\"><img src=\"https://colab.research.google.com/assets/colab-badge.svg\" alt=\"Open In Colab\"/></a>"
      ]
    },
    {
      "cell_type": "markdown",
      "metadata": {
        "id": "hGOYDdgFyaXe"
      },
      "source": [
        "# 314-10.1\n",
        "\n",
        "## Get average of 100 random integers. Count the numbers above average"
      ]
    },
    {
      "cell_type": "code",
      "metadata": {
        "id": "ArQQ2XZHsCQW",
        "colab": {
          "base_uri": "https://localhost:8080/",
          "height": 247
        },
        "outputId": "ffc2c898-f66e-4270-b833-70105b1a727e"
      },
      "source": [
        "# ===================================\n",
        "# 314-10.1\n",
        "# Get average of 100 random integers\n",
        "# Count the numbers above average\n",
        "# ===================================\n",
        "import random\n",
        "\n",
        "def generate_ints(low, high, N): #function signature\n",
        "    \"\"\"return a list of N random integers \n",
        "    ranged in [low, high)\n",
        "    \"\"\"\n",
        "    return random.sample(range(low, high), N)\n",
        "\n",
        "if __name__ == \"__main__\":\n",
        "  \n",
        "    # generate N random integers\n",
        "    low, high, N = 0, 1000, 100\n",
        "    ints = generate_ints(low, high, N)\n",
        "    #print(f\"integers = {ints}\") \n",
        "\n",
        "    # get average\n",
        "    #sum = 0\n",
        "    #for i in ints: \n",
        "    #  sum += i\n",
        "    average = sum([1,2]) / N\n",
        "\n",
        "    print(average)\n",
        "#    # count integers above average\n",
        "#    count = 0\n",
        "#    for i in ints:\n",
        "#      if i > average:\n",
        "#        count += 1\n",
        "    \n",
        "#    print(f\"\\nAverage = {average} \\nNumber of elements above the average = {count}\")\n",
        "\n"
      ],
      "execution_count": null,
      "outputs": [
        {
          "output_type": "error",
          "ename": "TypeError",
          "evalue": "ignored",
          "traceback": [
            "\u001b[0;31m---------------------------------------------------------------------------\u001b[0m",
            "\u001b[0;31mTypeError\u001b[0m                                 Traceback (most recent call last)",
            "\u001b[0;32m<ipython-input-114-0ad49e2a58f5>\u001b[0m in \u001b[0;36m<module>\u001b[0;34m()\u001b[0m\n\u001b[1;32m     23\u001b[0m     \u001b[0;31m#for i in ints:\u001b[0m\u001b[0;34m\u001b[0m\u001b[0;34m\u001b[0m\u001b[0;34m\u001b[0m\u001b[0m\n\u001b[1;32m     24\u001b[0m     \u001b[0;31m#  sum += i\u001b[0m\u001b[0;34m\u001b[0m\u001b[0;34m\u001b[0m\u001b[0;34m\u001b[0m\u001b[0m\n\u001b[0;32m---> 25\u001b[0;31m     \u001b[0maverage\u001b[0m \u001b[0;34m=\u001b[0m \u001b[0msum\u001b[0m\u001b[0;34m(\u001b[0m\u001b[0;34m[\u001b[0m\u001b[0;36m1\u001b[0m\u001b[0;34m,\u001b[0m\u001b[0;36m2\u001b[0m\u001b[0;34m]\u001b[0m\u001b[0;34m)\u001b[0m \u001b[0;34m/\u001b[0m \u001b[0mN\u001b[0m\u001b[0;34m\u001b[0m\u001b[0;34m\u001b[0m\u001b[0m\n\u001b[0m\u001b[1;32m     26\u001b[0m \u001b[0;34m\u001b[0m\u001b[0m\n\u001b[1;32m     27\u001b[0m     \u001b[0mprint\u001b[0m\u001b[0;34m(\u001b[0m\u001b[0maverage\u001b[0m\u001b[0;34m)\u001b[0m\u001b[0;34m\u001b[0m\u001b[0;34m\u001b[0m\u001b[0m\n",
            "\u001b[0;31mTypeError\u001b[0m: 'int' object is not callable"
          ]
        }
      ]
    },
    {
      "cell_type": "markdown",
      "metadata": {
        "id": "LwYDHqPWyL5f"
      },
      "source": [
        "# Lotto Numbers (325)\n",
        "\n",
        "## Determine whether all the input numbers cover 1 to 99"
      ]
    },
    {
      "cell_type": "code",
      "metadata": {
        "id": "mfWddukfxt4o"
      },
      "source": [
        "# =====================================================\n",
        "# 325 Lotto Numbers\n",
        "# Determine whether all the input numbers cover 1 to 99\n",
        "# ====================================================="
      ],
      "execution_count": null,
      "outputs": []
    }
  ]
}