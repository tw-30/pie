{
  "nbformat": 4,
  "nbformat_minor": 0,
  "metadata": {
    "language_info": {
      "codemirror_mode": {
        "name": "ipython",
        "version": 3
      },
      "file_extension": ".py",
      "mimetype": "text/x-python",
      "name": "python",
      "nbconvert_exporter": "python",
      "pygments_lexer": "ipython3",
      "version": "3.9.1"
    },
    "orig_nbformat": 2,
    "kernelspec": {
      "name": "python3",
      "display_name": "Python 3.9.1 64-bit ('ds39': conda)",
      "metadata": {
        "interpreter": {
          "hash": "9282cb84db62f40226f9dfa45325e61a8afbffa229b8db1f921f32afc9185b1b"
        }
      }
    },
    "colab": {
      "name": "palindrome-compare.ipynb",
      "provenance": [],
      "collapsed_sections": [],
      "include_colab_link": true
    }
  },
  "cells": [
    {
      "cell_type": "markdown",
      "metadata": {
        "id": "view-in-github",
        "colab_type": "text"
      },
      "source": [
        "<a href=\"https://colab.research.google.com/github/Jade-flow/pie/blob/main/key/palindrome_compare.ipynb\" target=\"_parent\"><img src=\"https://colab.research.google.com/assets/colab-badge.svg\" alt=\"Open In Colab\"/></a>"
      ]
    },
    {
      "cell_type": "code",
      "metadata": {
        "id": "aUIagzHf-7pf",
        "outputId": "29aa963b-cdb7-4948-aa09-1c381f1c37f0"
      },
      "source": [
        "%%timeit\n",
        "\"\"\"Palindrome\n",
        "using for loop and list comprehension\n",
        "\"\"\"\n",
        "seq = \"123456\"\n",
        "N = len(seq)\n",
        "rseq = [ seq[N-1-i] for i in range(0, N) ]\n",
        "rseq == seq\n",
        "#print(f\"{rseq}, {rseq == seq}\")"
      ],
      "execution_count": null,
      "outputs": [
        {
          "output_type": "stream",
          "name": "stdout",
          "text": [
            "863 ns ± 6.52 ns per loop (mean ± std. dev. of 7 runs, 1000000 loops each)\n"
          ]
        }
      ]
    },
    {
      "cell_type": "code",
      "metadata": {
        "id": "6W6tEBJY-7pg",
        "outputId": "39c0dae9-f8e2-4bb7-84d1-d3418fdc0212"
      },
      "source": [
        "%%timeit\n",
        "\"\"\"Palindrome\n",
        "list.insert (faster than 1st one)\n",
        "\"\"\"\n",
        "def reverse(seq): # user-defined reverse function \n",
        "    result = []\n",
        "    for element in seq:\n",
        "        result.insert(0, element) # list insert page 320\n",
        "    return result\n",
        "\n",
        "seq = \"123456\"\n",
        "seq == reverse(seq)\n"
      ],
      "execution_count": null,
      "outputs": [
        {
          "output_type": "stream",
          "name": "stdout",
          "text": [
            "604 ns ± 5.96 ns per loop (mean ± std. dev. of 7 runs, 1000000 loops each)\n"
          ]
        }
      ]
    },
    {
      "cell_type": "code",
      "metadata": {
        "id": "aw6gxLv1-7pi",
        "outputId": "16b1113e-f11f-4a29-b3b3-033c9fe0c7bc"
      },
      "source": [
        "%%timeit\n",
        "\"\"\" slice notation BEST \n",
        "\"\"\"\n",
        "seq = \"123456\"\n",
        "seq[::-1]\n",
        "seq == seq[::-1]"
      ],
      "execution_count": null,
      "outputs": [
        {
          "output_type": "stream",
          "name": "stdout",
          "text": [
            "229 ns ± 3.02 ns per loop (mean ± std. dev. of 7 runs, 1000000 loops each)\n"
          ]
        }
      ]
    },
    {
      "cell_type": "code",
      "metadata": {
        "id": "UkYvnIAY-7pi",
        "outputId": "ad144cec-bd92-492e-931b-be2784e82d54"
      },
      "source": [
        "%%timeit\n",
        "\"\"\"list built-in reverse() slow\n",
        "\"\"\"\n",
        "seq = list(\"123456\") # convert a string to a list \n",
        "seq == reverse(seq)"
      ],
      "execution_count": null,
      "outputs": [
        {
          "output_type": "stream",
          "name": "stdout",
          "text": [
            "690 ns ± 1.8 ns per loop (mean ± std. dev. of 7 runs, 1000000 loops each)\n"
          ]
        }
      ]
    },
    {
      "cell_type": "markdown",
      "metadata": {
        "id": "167fvB_x_GUc"
      },
      "source": [
        "In summary, \n",
        "- Using Python built-in function is faster than writing your own function from scratch. \n",
        "- Slice notation is much faster than list reverse, list insert and user-defined function from scratch. "
      ]
    }
  ]
}