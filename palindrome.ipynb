{
  "cells": [
    {
      "cell_type": "code",
      "execution_count": null,
      "metadata": {
        "colab": {
          "base_uri": "https://localhost:8080/"
        },
        "id": "8K7DTWZb7NP-",
        "outputId": "9acdb6ef-2794-46ee-9a46-ebd88d7c949a"
      },
      "outputs": [
        {
          "name": "stdout",
          "output_type": "stream",
          "text": [
            "100 loops, best of 5: 2.52 ms per loop\n"
          ]
        }
      ],
      "source": [
        "%%timeit\n",
        "#for loop\n",
        "L = [] #group of elements\n",
        "for n in range(1, 101):\n",
        "  L.append(n ** 2)\n",
        "  [n**2 for n in range (1, 101) ]\n",
        "#print(f\"L is {L}.\")"
      ]
    },
    {
      "cell_type": "code",
      "execution_count": null,
      "metadata": {
        "id": "SH-wsOFb7u9D"
      },
      "outputs": [],
      "source": [
        "[n**2 for n in range(1, 101)]\n"
      ]
    },
    {
      "cell_type": "code",
      "execution_count": null,
      "metadata": {
        "id": "7PhN2Ewr8dmj"
      },
      "outputs": [],
      "source": [
        "n = \"colabgoogle\"\n",
        "#n = 12234567890\n",
        "#n = str(n)\n"
      ]
    },
    {
      "cell_type": "code",
      "execution_count": null,
      "metadata": {
        "colab": {
          "base_uri": "https://localhost:8080/",
          "height": 35
        },
        "id": "SmUiTQeb9KRC",
        "outputId": "7e7cada5-f4d1-464a-b06b-72d571fb7f42"
      },
      "outputs": [
        {
          "data": {
            "application/vnd.google.colaboratory.intrinsic+json": {
              "type": "string"
            },
            "text/plain": [
              "'co'"
            ]
          },
          "execution_count": 10,
          "metadata": {},
          "output_type": "execute_result"
        }
      ],
      "source": [
        "#Take first two elements\n",
        "#(0 1) 2 3 4 5 6 7 \n",
        "n[0:2:1]"
      ]
    },
    {
      "cell_type": "code",
      "execution_count": null,
      "metadata": {
        "colab": {
          "base_uri": "https://localhost:8080/",
          "height": 35
        },
        "id": "iNL8iNj69SEt",
        "outputId": "2b0946b0-65bd-4dd4-d56b-622fd0dc161b"
      },
      "outputs": [
        {
          "data": {
            "application/vnd.google.colaboratory.intrinsic+json": {
              "type": "string"
            },
            "text/plain": [
              "'oagol'"
            ]
          },
          "execution_count": 11,
          "metadata": {},
          "output_type": "execute_result"
        }
      ],
      "source": [
        "#take elements between 3rd and 6th \n",
        "#0 1 (3 4 5) 6 ...\n",
        "n[ 1 :  : 2]\n"
      ]
    },
    {
      "cell_type": "code",
      "execution_count": null,
      "metadata": {
        "colab": {
          "base_uri": "https://localhost:8080/",
          "height": 35
        },
        "id": "0NcoJLTp9g5-",
        "outputId": "689fcda9-849d-4e25-e669-317f74425a43"
      },
      "outputs": [
        {
          "data": {
            "application/vnd.google.colaboratory.intrinsic+json": {
              "type": "string"
            },
            "text/plain": [
              "'elgoogbaloc'"
            ]
          },
          "execution_count": 12,
          "metadata": {},
          "output_type": "execute_result"
        }
      ],
      "source": [
        "#reverse the given list(sequence)\n",
        "n[::-1]\n"
      ]
    },
    {
      "cell_type": "code",
      "execution_count": null,
      "metadata": {
        "id": "R1cxMQGN9luy"
      },
      "outputs": [],
      "source": [
        "#take all elements at the odd positions \n"
      ]
    },
    {
      "cell_type": "code",
      "execution_count": null,
      "metadata": {
        "colab": {
          "base_uri": "https://localhost:8080/"
        },
        "id": "iQTUa5zW91Um",
        "outputId": "8d1038a7-03fa-4bbc-e5d3-f7ae7b9886f5"
      },
      "outputs": [
        {
          "name": "stdout",
          "output_type": "stream",
          "text": [
            "brush your teeth\n"
          ]
        }
      ],
      "source": [
        "#Generate a value for action, depending on the evaluation of a given condition or test\n",
        "test = False\n",
        "\n",
        "if test:\n",
        "  action = \"wash your face\"\n",
        "else:\n",
        "  action = \"brush your teeth\"\n",
        "print(f\"{action}\")\n"
      ]
    },
    {
      "cell_type": "code",
      "execution_count": null,
      "metadata": {
        "colab": {
          "base_uri": "https://localhost:8080/"
        },
        "id": "_hruz3Zw-H1L",
        "outputId": "9cd8ceab-f251-4d15-ea23-5f82b6009f74"
      },
      "outputs": [
        {
          "name": "stdout",
          "output_type": "stream",
          "text": [
            "123 is NOT a palindrome.\n"
          ]
        }
      ],
      "source": [
        "sequence = \"123\"\n",
        "reverse_sequence =\"223\"\n",
        "\n",
        "is_Palindrome = False \n",
        "if sequence == reverse_sequence:\n",
        "  is_Palindrome = True\n",
        "\n",
        "if is_Palindrome:\n",
        "  print(f\"{sequence} is a palindrome\")\n",
        "else:\n",
        "  print(f\"{sequence} is NOT a palindrome.\")\n",
        "  "
      ]
    },
    {
      "cell_type": "code",
      "execution_count": null,
      "metadata": {
        "id": "lVO4Qeso-wK6"
      },
      "outputs": [],
      "source": [
        "def isPalindrome(s):\n",
        "  return s == s[::-1]\n"
      ]
    },
    {
      "cell_type": "code",
      "execution_count": null,
      "metadata": {
        "colab": {
          "base_uri": "https://localhost:8080/"
        },
        "id": "dR_eV31u_WY9",
        "outputId": "96a85e2b-133c-4f7a-98e2-62090776c3c7"
      },
      "outputs": [
        {
          "name": "stdout",
          "output_type": "stream",
          "text": [
            "no\n"
          ]
        }
      ],
      "source": [
        "s = \"collabgoogle\"\n",
        "ans = isPalindrome(s)\n",
        "\n",
        "if ans:\n",
        "  print(\"yes\")\n",
        "else:\n",
        "  print(\"no\")\n"
      ]
    },
    {
      "cell_type": "code",
      "execution_count": null,
      "metadata": {
        "colab": {
          "base_uri": "https://localhost:8080/"
        },
        "id": "V9E-7YoF_jSa",
        "outputId": "f3a5e9f5-5750-4d1c-d125-1298cc12c084"
      },
      "outputs": [
        {
          "name": "stdout",
          "output_type": "stream",
          "text": [
            "yes\n"
          ]
        }
      ],
      "source": [
        "def isPalindrome(str):\n",
        "\n",
        "  for i in range(0, int(len(str)/2)):\n",
        "    if str[i] != str[len(str)-i-1]:\n",
        "      return False\n",
        "  return True\n",
        "\n",
        "\n",
        "s = \"malayalam\"\n",
        "ans = isPalindrome(s)\n",
        "\n",
        "if (ans):\n",
        "  print(\"yes\")\n",
        "else:\n",
        "  print(\"No\")\n",
        "  "
      ]
    },
    {
      "cell_type": "code",
      "execution_count": null,
      "metadata": {
        "id": "XIMAn3PEAFKR"
      },
      "outputs": [],
      "source": []
    }
  ],
  "metadata": {
    "colab": {
      "collapsed_sections": [],
      "name": "palindrome.ipynb",
      "provenance": []
    },
    "interpreter": {
      "hash": "b3ba2566441a7c06988d0923437866b63cedc61552a5af99d1f4fb67d367b25f"
    },
    "kernelspec": {
      "display_name": "Python 3.8.8 64-bit ('base': conda)",
      "name": "python3"
    },
    "language_info": {
      "name": "python",
      "version": ""
    }
  },
  "nbformat": 4,
  "nbformat_minor": 0
}